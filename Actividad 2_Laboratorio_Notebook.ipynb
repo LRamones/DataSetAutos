{
 "cells": [
  {
   "attachments": {},
   "cell_type": "markdown",
   "id": "de1406ba",
   "metadata": {},
   "source": [
    "<img src=\"https://www.unir.net/wp-content/uploads/2019/11/Unir_2021_logo.svg\" width=\"240\" height=\"240\" align=\"right\"/>"
   ]
  },
  {
   "attachments": {},
   "cell_type": "markdown",
   "id": "8b6f603c",
   "metadata": {},
   "source": [
    "<center><h1>Técnicas de Inteligencia Artificial</header1></center>\n",
    "<left><h1>Actividad 1. Laboratorio: Árboles de decisión, reglas y ensemble learning</header1></left>"
   ]
  },
  {
   "attachments": {},
   "cell_type": "markdown",
   "id": "3eb1aaac",
   "metadata": {},
   "source": [
    "Presentado por: Nombres Apellidos  <br>\n",
    "Fecha: DD/MM/2022"
   ]
  },
  {
   "attachments": {},
   "cell_type": "markdown",
   "id": "1dec299b",
   "metadata": {
    "ExecuteTime": {
     "end_time": "2022-03-14T15:14:04.930713Z",
     "start_time": "2022-03-14T15:14:04.921682Z"
    }
   },
   "source": [
    "## Importación de librerias necesarias"
   ]
  },
  {
   "cell_type": "code",
   "execution_count": 26,
   "id": "6d1abf7a",
   "metadata": {
    "ExecuteTime": {
     "end_time": "2022-03-14T15:14:46.228059Z",
     "start_time": "2022-03-14T15:14:46.223108Z"
    }
   },
   "outputs": [],
   "source": [
    "import pandas as pd \n",
    "import numpy as np\n",
    "import matplotlib.pyplot as plt\n",
    "import seaborn as sns\n",
    "\n",
    "from sklearn import preprocessing\n",
    "from sklearn.model_selection import train_test_split\n",
    "from sklearn.linear_model import LinearRegression\n",
    "from sklearn.metrics import mean_squared_error,r2_score\n",
    "from sklearn.preprocessing import PolynomialFeatures\n",
    "\n",
    "#1. `pandas` es una librería de Python que proporciona estructuras de datos y\n",
    "# herramientas de análisis de datos de alto rendimiento para trabajar con conjuntos de datos tabulares.\n",
    "#. `numpy` es una librería de Python que proporciona estructuras de datos y\n",
    "# herramientas para trabajar con matrices y vectores numéricos para realizar cálculos numéricos y operaciones matemáticas de manera eficiente.\n",
    "# `matplotlib` es una librería de Python para crear gráficos y visualizaciones de datos, útil \n",
    "# para crear gráficos de líneas, de barras, de dispersión, histogramas, entre otros.\n",
    "#`seaborn` es una librería de Python para visualizar datos estadísticos, proporcionando una interfaz fácil de usar para \n",
    "# crear gráficos estadísticos complejos como diagramas de caja, gráficos de violín, gráficos de densidad y mapas de calor.\n",
    "#`sklearn` es una librería de Python para aprendizaje automático que proporciona herramientas para construir \n",
    "# modelos de aprendizaje automático, realizar validación cruzada, preprocesar datos y evaluar modelos.\n",
    "#`preprocessing` es un módulo de `sklearn` que proporciona herramientas para preprocesar los datos antes de construir \n",
    "# un modelo de aprendizaje automático, incluyendo normalización, estandarización, codificación y escalado de datos.\n",
    "#`train_test_split` es una función de `sklearn` que se utiliza para dividir un conjunto de datos en dos subconjuntos: \n",
    "# uno para entrenar el modelo y otro para evaluar su desempeño.\n",
    "#`LinearRegression` es una clase de `sklearn` que se utiliza para construir un modelo de regresión lineal.\n",
    "#`mean_squared_error` es una función de `sklearn.metrics` que se utiliza para calcular el error cuadrático medio entre\n",
    "# las predicciones de un modelo y las verdaderas etiquetas de los datos.\n",
    "#`r2_score` es una función de `sklearn.metrics` que se utiliza para calcular el coeficiente de determinación R^2 de un modelo de regresión.\n",
    "# `PolynomialFeatures` es una clase de `sklearn.preprocessing` que se utiliza para generar características\n",
    "# polinómicas a partir de un conjunto de características existente, útil para construir modelos de regresión polinómica."
   ]
  },
  {
   "attachments": {},
   "cell_type": "markdown",
   "id": "6a44b924",
   "metadata": {},
   "source": [
    "## Cargar el Dataset"
   ]
  },
  {
   "cell_type": "code",
   "execution_count": 27,
   "id": "3541e808",
   "metadata": {},
   "outputs": [],
   "source": [
    "df=pd.read_csv('./Laboratorio_dataset_car.csv', sep=';')\n",
    "##Caracterización\n",
    "#La base de datos cuenta con 1750 instancias  y 7 variables \n",
    "\n"
   ]
  },
  {
   "attachments": {},
   "cell_type": "markdown",
   "id": "7f868eab",
   "metadata": {},
   "source": [
    "## Explique el problema a resolver. \n",
    "Descripción del problema. Tipo de problema (justifique). Variable objetivo, variables de entrada. Utilidad de su posible solución. Elementos adicionales que considere relevantes:"
   ]
  },
  {
   "attachments": {},
   "cell_type": "markdown",
   "id": "a0b719c1",
   "metadata": {},
   "source": [
    "## Caracterización del Dataset\n",
    "\n",
    "Se incluye una descripción de los datos con:\n",
    "\n",
    ">- Número de clases de la variable objetivo, indicando que representan dichas clases y el tipo de valor que toman.\n",
    ">- Número de instancias en total.\n",
    ">- Número de instancias pertenecientes a cada clase.\n",
    ">- Número de atributos de entrada, su significado y tipo.\n",
    ">- ¿Hay algún valor de atributo desconocido?\n",
    "\n",
    "Se incorporá una descripción (EDA) del conjunto de datos utilizado. Se analiza el dataset proporcionando, se muestra al menos algunas de sus características mediante tablas y al menos algunas de ellas en modo gráfico (p.ej., histogramas, diagramas de dispersión, diagramas de cajas y bigotes, etc.)\n"
   ]
  },
  {
   "cell_type": "code",
   "execution_count": 28,
   "id": "2f0ed5d2",
   "metadata": {},
   "outputs": [
    {
     "data": {
      "text/plain": [
       "(1750, 7)"
      ]
     },
     "execution_count": 28,
     "metadata": {},
     "output_type": "execute_result"
    }
   ],
   "source": [
    "#Código que responde a la descripción anterior\n",
    "df.shape"
   ]
  },
  {
   "cell_type": "code",
   "execution_count": 29,
   "id": "ad08f162",
   "metadata": {},
   "outputs": [
    {
     "name": "stdout",
     "output_type": "stream",
     "text": [
      "<class 'pandas.core.frame.DataFrame'>\n",
      "RangeIndex: 1750 entries, 0 to 1749\n",
      "Data columns (total 7 columns):\n",
      " #   Column       Non-Null Count  Dtype \n",
      "---  ------       --------------  ----- \n",
      " 0   Buying       1750 non-null   object\n",
      " 1   Maintenance  1750 non-null   object\n",
      " 2   Doors        1750 non-null   object\n",
      " 3   Person       1750 non-null   object\n",
      " 4   lug_boot     1750 non-null   object\n",
      " 5   safety       1750 non-null   object\n",
      " 6   class        1750 non-null   object\n",
      "dtypes: object(7)\n",
      "memory usage: 95.8+ KB\n"
     ]
    }
   ],
   "source": [
    "#Código que responde a la descripción anterior (incorpore las lineas de code necesarias. Describa cadas sentencia de código)\n",
    "df.info()"
   ]
  },
  {
   "attachments": {},
   "cell_type": "markdown",
   "id": "a7ab5e48",
   "metadata": {},
   "source": [
    "En un par de párrafos haga un resumen de los principales hallazagos encontrados:    "
   ]
  },
  {
   "attachments": {},
   "cell_type": "markdown",
   "id": "ece5beca",
   "metadata": {
    "ExecuteTime": {
     "end_time": "2022-03-14T15:52:20.156185Z",
     "start_time": "2022-03-14T15:52:20.150187Z"
    }
   },
   "source": [
    "## Preprocesamiento del dataset. Transformaciones previas necesarias para la modelación"
   ]
  },
  {
   "cell_type": "code",
   "execution_count": 30,
   "id": "85c9ad88",
   "metadata": {},
   "outputs": [
    {
     "data": {
      "text/plain": [
       "vhigh    443\n",
       "med      438\n",
       "low      437\n",
       "high     432\n",
       "Name: Buying, dtype: int64"
      ]
     },
     "execution_count": 30,
     "metadata": {},
     "output_type": "execute_result"
    }
   ],
   "source": [
    "#Código que realice las transformaciones necesarias para poder realizar los procesos de modelación. Ej.One hot enconding\n",
    "df['Buying'].value_counts()\n",
    "#indica el valor del auto\n",
    "#variable ordinal que cuenta con un orden vhigh,med,low.hight\n",
    "#de tipo de dato entero \n",
    "#existen 443 datos con notación vhigh\n",
    "#existen 438 datos con notación med\n",
    "#existen 437 datos con notación low\n",
    "#existen 432 datos con notacion high\n",
    "#existen un total de 1750 datos"
   ]
  },
  {
   "cell_type": "code",
   "execution_count": 31,
   "id": "9df344fa",
   "metadata": {},
   "outputs": [
    {
     "data": {
      "text/plain": [
       "unacc    1215\n",
       "acc       390\n",
       "good       75\n",
       "vgood      70\n",
       "Name: class, dtype: int64"
      ]
     },
     "execution_count": 31,
     "metadata": {},
     "output_type": "execute_result"
    }
   ],
   "source": [
    "df['class'].value_counts()#indica la clase de auto y si nivel de accesibilidad\n",
    "#variable ordinal que cuenta con un orden unacc,acc,good,vgood\n",
    "#de tipo de dato entero \n",
    "#existen 1215 datos con notación unacc\n",
    "#existen 390 datos con notación acc\n",
    "#existen 75 datos con notación good\n",
    "#existen 70 datos con notacion vgood\n",
    "#existen un total de 1750 datos"
   ]
  },
  {
   "cell_type": "code",
   "execution_count": 32,
   "id": "e8795ca2",
   "metadata": {},
   "outputs": [
    {
     "data": {
      "text/plain": [
       "low      447\n",
       "vhigh    437\n",
       "med      434\n",
       "high     432\n",
       "Name: Maintenance, dtype: int64"
      ]
     },
     "execution_count": 32,
     "metadata": {},
     "output_type": "execute_result"
    }
   ],
   "source": [
    "df['Maintenance'].value_counts()\n",
    "#indica el mantenimiento que tienen \n",
    "#variable ordinal que cuenta con un orden vhigh,med,low.hight\n",
    "#de tipo de dato entero \n",
    "#existen 437 datos con notación vhigh\n",
    "#existen 434 datos con notación med\n",
    "#existen 447 datos con notación low\n",
    "#existen 432 datos con notacion high\n",
    "#existen un total de 1750 datos"
   ]
  },
  {
   "cell_type": "code",
   "execution_count": 33,
   "id": "50dea586",
   "metadata": {},
   "outputs": [
    {
     "data": {
      "text/plain": [
       "2        444\n",
       "5more    437\n",
       "3        435\n",
       "4        434\n",
       "Name: Doors, dtype: int64"
      ]
     },
     "execution_count": 33,
     "metadata": {},
     "output_type": "execute_result"
    }
   ],
   "source": [
    "df['Doors'].value_counts()\n",
    "#indica el número de puertas \n",
    "#variable ordinal que cuenta con un orden vhigh,med,low.hight\n",
    "#de tipo de dato entero \n",
    "#existen 444 datos con notación 2\n",
    "#existen 437 datos con notación de 5 o más\n",
    "#existen 435 datos con notación 3\n",
    "#existen 434 datos con notacion 4\n",
    "#existen un total de 1750 datos"
   ]
  },
  {
   "cell_type": "code",
   "execution_count": 34,
   "id": "1a734043",
   "metadata": {},
   "outputs": [
    {
     "data": {
      "text/plain": [
       "4       587\n",
       "more    585\n",
       "2       578\n",
       "Name: Person, dtype: int64"
      ]
     },
     "execution_count": 34,
     "metadata": {},
     "output_type": "execute_result"
    }
   ],
   "source": [
    "df['Person'].value_counts()\n",
    "#Indica el número de persona que caben\n",
    "#variable ordinal que cuenta con un orden 4,más y 2\n",
    "#de tipo de dato entero \n",
    "#existen 587 datos con notación 4\n",
    "#existen 585 datos con notación more\n",
    "#existen 578 datos con notación 2\n",
    "#existen un total de 1750 datos"
   ]
  },
  {
   "cell_type": "code",
   "execution_count": 35,
   "id": "f7b3b2dc",
   "metadata": {},
   "outputs": [
    {
     "data": {
      "text/plain": [
       "big      585\n",
       "med      583\n",
       "small    582\n",
       "Name: lug_boot, dtype: int64"
      ]
     },
     "execution_count": 35,
     "metadata": {},
     "output_type": "execute_result"
    }
   ],
   "source": [
    "df['lug_boot'].value_counts()\n",
    "#variable ordinal que cuenta con un orden big,med,small\n",
    "#de tipo de dato entero \n",
    "#existen 585 datos con notación big\n",
    "#existen 583 datos con notación med\n",
    "#existen 582 datos con notación small\n",
    "#existen un total de 1750 datos"
   ]
  },
  {
   "cell_type": "code",
   "execution_count": 36,
   "id": "d6aaebfb",
   "metadata": {},
   "outputs": [
    {
     "data": {
      "text/plain": [
       "high    590\n",
       "med     582\n",
       "low     578\n",
       "Name: safety, dtype: int64"
      ]
     },
     "execution_count": 36,
     "metadata": {},
     "output_type": "execute_result"
    }
   ],
   "source": [
    "df['safety'].value_counts()\n",
    "#Indica la seguridad \n",
    "#variable ordinal que cuenta con un orden med,low.hight\n",
    "#de tipo de dato entero \n",
    "#existen 582 datos con notación med\n",
    "#existen 578 datos con notación low\n",
    "#existen 590 datos con notacion high\n",
    "#existen un total de 1750 datos"
   ]
  },
  {
   "cell_type": "code",
   "execution_count": 37,
   "id": "76ceb1b7",
   "metadata": {},
   "outputs": [
    {
     "data": {
      "text/plain": [
       "unacc    1215\n",
       "acc       390\n",
       "good       75\n",
       "vgood      70\n",
       "Name: class, dtype: int64"
      ]
     },
     "execution_count": 37,
     "metadata": {},
     "output_type": "execute_result"
    }
   ],
   "source": [
    "df['class'].value_counts()\n",
    "#indica la clase de la variable\n",
    "#variable ordinal que cuenta con un orden unacc,acc,good,vgood\n",
    "#de tipo de dato entero \n",
    "#existen 1215 datos con notación unacc\n",
    "#existen 390 datos con notación acc\n",
    "#existen 75 datos con notación good\n",
    "#existen 70 datos con notacion vgood\n",
    "#existen un total de 1750 datos"
   ]
  },
  {
   "cell_type": "code",
   "execution_count": 38,
   "id": "70843024",
   "metadata": {},
   "outputs": [
    {
     "data": {
      "text/html": [
       "<div>\n",
       "<style scoped>\n",
       "    .dataframe tbody tr th:only-of-type {\n",
       "        vertical-align: middle;\n",
       "    }\n",
       "\n",
       "    .dataframe tbody tr th {\n",
       "        vertical-align: top;\n",
       "    }\n",
       "\n",
       "    .dataframe thead th {\n",
       "        text-align: right;\n",
       "    }\n",
       "</style>\n",
       "<table border=\"1\" class=\"dataframe\">\n",
       "  <thead>\n",
       "    <tr style=\"text-align: right;\">\n",
       "      <th></th>\n",
       "      <th>Buying</th>\n",
       "      <th>Maintenance</th>\n",
       "      <th>Doors</th>\n",
       "      <th>Person</th>\n",
       "      <th>lug_boot</th>\n",
       "      <th>safety</th>\n",
       "      <th>class</th>\n",
       "    </tr>\n",
       "  </thead>\n",
       "  <tbody>\n",
       "    <tr>\n",
       "      <th>count</th>\n",
       "      <td>1750</td>\n",
       "      <td>1750</td>\n",
       "      <td>1750</td>\n",
       "      <td>1750</td>\n",
       "      <td>1750</td>\n",
       "      <td>1750</td>\n",
       "      <td>1750</td>\n",
       "    </tr>\n",
       "    <tr>\n",
       "      <th>unique</th>\n",
       "      <td>4</td>\n",
       "      <td>4</td>\n",
       "      <td>4</td>\n",
       "      <td>3</td>\n",
       "      <td>3</td>\n",
       "      <td>3</td>\n",
       "      <td>4</td>\n",
       "    </tr>\n",
       "    <tr>\n",
       "      <th>top</th>\n",
       "      <td>vhigh</td>\n",
       "      <td>low</td>\n",
       "      <td>2</td>\n",
       "      <td>4</td>\n",
       "      <td>big</td>\n",
       "      <td>high</td>\n",
       "      <td>unacc</td>\n",
       "    </tr>\n",
       "    <tr>\n",
       "      <th>freq</th>\n",
       "      <td>443</td>\n",
       "      <td>447</td>\n",
       "      <td>444</td>\n",
       "      <td>587</td>\n",
       "      <td>585</td>\n",
       "      <td>590</td>\n",
       "      <td>1215</td>\n",
       "    </tr>\n",
       "  </tbody>\n",
       "</table>\n",
       "</div>"
      ],
      "text/plain": [
       "       Buying Maintenance Doors Person lug_boot safety  class\n",
       "count    1750        1750  1750   1750     1750   1750   1750\n",
       "unique      4           4     4      3        3      3      4\n",
       "top     vhigh         low     2      4      big   high  unacc\n",
       "freq      443         447   444    587      585    590   1215"
      ]
     },
     "execution_count": 38,
     "metadata": {},
     "output_type": "execute_result"
    }
   ],
   "source": [
    "# una descripcion de como estan distribuidos los datos \n",
    "# la primera fila hace el recuento de todas las instancias\n",
    "# unique posibles valores que puedan obtener\n",
    "# top y freq es cual se repite con mayor frecuencia\n",
    " \n",
    "df.describe()"
   ]
  },
  {
   "cell_type": "code",
   "execution_count": 39,
   "id": "de9f07f2",
   "metadata": {},
   "outputs": [
    {
     "data": {
      "text/plain": [
       "<Axes: >"
      ]
     },
     "execution_count": 39,
     "metadata": {},
     "output_type": "execute_result"
    },
    {
     "data": {
      "image/png": "[encoded data removed]",
      "text/plain": [
       "<Figure size 640x480 with 1 Axes>"
      ]
     },
     "metadata": {},
     "output_type": "display_data"
    }
   ],
   "source": [
    "df.Maintenance.value_counts().plot.bar()\n",
    "#variable cualitativa ordinal"
   ]
  },
  {
   "cell_type": "code",
   "execution_count": 40,
   "id": "8ad55cd9",
   "metadata": {},
   "outputs": [
    {
     "data": {
      "text/plain": [
       "<Axes: >"
      ]
     },
     "execution_count": 40,
     "metadata": {},
     "output_type": "execute_result"
    },
    {
     "data": {
      "image/png": "[encoded data removed]",
      "text/plain": [
       "<Figure size 640x480 with 1 Axes>"
      ]
     },
     "metadata": {},
     "output_type": "display_data"
    }
   ],
   "source": [
    "df.Doors.value_counts().plot.bar()\n",
    "#variable cuantitativa discreta"
   ]
  },
  {
   "cell_type": "code",
   "execution_count": 41,
   "id": "d5dcea07",
   "metadata": {},
   "outputs": [
    {
     "data": {
      "text/plain": [
       "<Axes: >"
      ]
     },
     "execution_count": 41,
     "metadata": {},
     "output_type": "execute_result"
    },
    {
     "data": {
      "image/png": "[encoded data removed]",
      "text/plain": [
       "<Figure size 640x480 with 1 Axes>"
      ]
     },
     "metadata": {},
     "output_type": "display_data"
    }
   ],
   "source": [
    "df.Person.value_counts().plot.bar()\n",
    "#variable cualitativa discreta"
   ]
  },
  {
   "cell_type": "code",
   "execution_count": 42,
   "id": "4790dbfe",
   "metadata": {},
   "outputs": [
    {
     "data": {
      "text/plain": [
       "<Axes: >"
      ]
     },
     "execution_count": 42,
     "metadata": {},
     "output_type": "execute_result"
    },
    {
     "data": {
      "image/png": "[encoded data removed]",
      "text/plain": [
       "<Figure size 640x480 with 1 Axes>"
      ]
     },
     "metadata": {},
     "output_type": "display_data"
    }
   ],
   "source": [
    "df.lug_boot.value_counts().plot.bar()\n",
    "#variable cualitativa ordinal"
   ]
  },
  {
   "cell_type": "code",
   "execution_count": 43,
   "id": "6d0b4f8c",
   "metadata": {},
   "outputs": [
    {
     "data": {
      "text/plain": [
       "<Axes: >"
      ]
     },
     "execution_count": 43,
     "metadata": {},
     "output_type": "execute_result"
    },
    {
     "data": {
      "image/png": "[encoded data removed]",
      "text/plain": [
       "<Figure size 640x480 with 1 Axes>"
      ]
     },
     "metadata": {},
     "output_type": "display_data"
    }
   ],
   "source": [
    "df.Buying.value_counts().plot.bar()\n",
    "#sirve para observar el balance de los datos\n",
    "#variable cuantitativa ordinal"
   ]
  },
  {
   "cell_type": "code",
   "execution_count": 44,
   "id": "50b93b0d",
   "metadata": {},
   "outputs": [
    {
     "data": {
      "text/plain": [
       "<Axes: >"
      ]
     },
     "execution_count": 44,
     "metadata": {},
     "output_type": "execute_result"
    },
    {
     "data": {
      "image/png": "[encoded data removed]",
      "text/plain": [
       "<Figure size 640x480 with 1 Axes>"
      ]
     },
     "metadata": {},
     "output_type": "display_data"
    }
   ],
   "source": [
    "df.safety.value_counts().plot.bar()\n",
    "#variable cuantitativa ordinal"
   ]
  },
  {
   "cell_type": "code",
   "execution_count": 45,
   "id": "575f2b01",
   "metadata": {},
   "outputs": [
    {
     "data": {
      "text/plain": [
       "<Axes: xlabel='class', ylabel='count'>"
      ]
     },
     "execution_count": 45,
     "metadata": {},
     "output_type": "execute_result"
    },
    {
     "data": {
      "image/png": "[encoded data removed]",
      "text/plain": [
       "<Figure size 640x480 with 1 Axes>"
      ]
     },
     "metadata": {},
     "output_type": "display_data"
    }
   ],
   "source": [
    "# es el codigo de la funcion objetivo  para ver el balance de los datos que tiene  y en este caso se llama class\n",
    "#\n",
    "sns.countplot(x='class', data=df)"
   ]
  },
  {
   "cell_type": "code",
   "execution_count": 46,
   "id": "5fb02fe3",
   "metadata": {},
   "outputs": [
    {
     "name": "stdout",
     "output_type": "stream",
     "text": [
      "0       unacc\n",
      "1       unacc\n",
      "2       unacc\n",
      "3       unacc\n",
      "4       unacc\n",
      "        ...  \n",
      "1745    vgood\n",
      "1746    vgood\n",
      "1747    unacc\n",
      "1748     good\n",
      "1749    vgood\n",
      "Name: class, Length: 1750, dtype: object\n"
     ]
    },
    {
     "data": {
      "text/plain": [
       "((1750, 6), (1750,))"
      ]
     },
     "execution_count": 46,
     "metadata": {},
     "output_type": "execute_result"
    }
   ],
   "source": [
    "x=df.drop('class',axis=1)\n",
    "y=df['class']\n",
    "print(y)\n",
    "x.shape,y.shape\n",
    "#en x cuenta todas las variables excepto class\n",
    "#y en Y estan  todas las instancias de class"
   ]
  },
  {
   "attachments": {},
   "cell_type": "markdown",
   "id": "49815fde",
   "metadata": {
    "ExecuteTime": {
     "end_time": "2022-03-14T15:56:34.366469Z",
     "start_time": "2022-03-14T15:56:34.358471Z"
    }
   },
   "source": [
    "## División del dataset en datos de entrenamiento y datos de test "
   ]
  },
  {
   "cell_type": "code",
   "execution_count": 47,
   "id": "6f26d21e",
   "metadata": {},
   "outputs": [
    {
     "name": "stdout",
     "output_type": "stream",
     "text": [
      "[array(['high', 'low', 'med', 'vhigh'], dtype=object), array(['high', 'low', 'med', 'vhigh'], dtype=object), array(['2', '3', '4', '5more'], dtype=object), array(['2', '4', 'more'], dtype=object), array(['big', 'med', 'small'], dtype=object), array(['high', 'low', 'med'], dtype=object)]\n",
      "[[0. 2. 1. 1. 1. 2.]\n",
      " [1. 0. 0. 2. 2. 0.]\n",
      " [0. 1. 2. 2. 0. 0.]\n",
      " [1. 2. 3. 0. 1. 0.]\n",
      " [3. 1. 1. 1. 2. 0.]]\n",
      "     Buying Maintenance  Doors Person lug_boot safety\n",
      "699    high         med      3      4      med    med\n",
      "1441    low        high      2   more    small   high\n",
      "847    high         low      4   more      big   high\n",
      "1615    low         med  5more      2      med   high\n",
      "371   vhigh         low      3      4    small   high\n",
      "[[1. 2. 0. 1. 1. 0.]\n",
      " [3. 1. 3. 0. 0. 0.]\n",
      " [0. 2. 2. 0. 1. 0.]\n",
      " [2. 1. 3. 1. 0. 0.]\n",
      " [2. 2. 2. 1. 0. 2.]]\n",
      "     Buying Maintenance  Doors Person lug_boot safety\n",
      "1543    low         med      2      4      med   high\n",
      "423   vhigh         low  5more      2      big   high\n",
      "718    high         med      4      2      med   high\n",
      "1303    med         low  5more      4      big   high\n",
      "1161    med         med      4      4      big    med\n"
     ]
    }
   ],
   "source": [
    "#Código que realice la división en entrenamiento y test, de acuerdo con la estretgia de evluación planeada. Describa cuál es.\n",
    "x_train, x_text ,Y_train,y_test = train_test_split(x,y,test_size=0.28, random_state=30,shuffle=True,stratify=y)\n",
    "from sklearn.preprocessing import OrdinalEncoder\n",
    "enconder = OrdinalEncoder()\n",
    "x_etrain = enconder.fit_transform(x_train)\n",
    "x_etest =enconder.transform(x_text)\n",
    "print(enconder.categories_)\n",
    "print(x_etrain[:5])\n",
    "print(x_train[:5])\n",
    "print(x_etest[:5])\n",
    "print(x_text[:5])\n"
   ]
  },
  {
   "attachments": {},
   "cell_type": "markdown",
   "id": "1a91e96b",
   "metadata": {},
   "source": [
    "## Ajuste de los modelos de clasificación propuestos"
   ]
  },
  {
   "attachments": {},
   "cell_type": "markdown",
   "id": "d552bc64",
   "metadata": {},
   "source": [
    "Justifique la selección de las dos propuestas de modelación seleccionadas:"
   ]
  },
  {
   "cell_type": "code",
   "execution_count": 55,
   "id": "d5d2b2c6",
   "metadata": {},
   "outputs": [
    {
     "data": {
      "text/html": [
       "<style>#sk-container-id-3 {color: black;background-color: white;}#sk-container-id-3 pre{padding: 0;}#sk-container-id-3 div.sk-toggleable {background-color: white;}#sk-container-id-3 label.sk-toggleable__label {cursor: pointer;display: block;width: 100%;margin-bottom: 0;padding: 0.3em;box-sizing: border-box;text-align: center;}#sk-container-id-3 label.sk-toggleable__label-arrow:before {content: \"▸\";float: left;margin-right: 0.25em;color: #696969;}#sk-container-id-3 label.sk-toggleable__label-arrow:hover:before {color: black;}#sk-container-id-3 div.sk-estimator:hover label.sk-toggleable__label-arrow:before {color: black;}#sk-container-id-3 div.sk-toggleable__content {max-height: 0;max-width: 0;overflow: hidden;text-align: left;background-color: #f0f8ff;}#sk-container-id-3 div.sk-toggleable__content pre {margin: 0.2em;color: black;border-radius: 0.25em;background-color: #f0f8ff;}#sk-container-id-3 input.sk-toggleable__control:checked~div.sk-toggleable__content {max-height: 200px;max-width: 100%;overflow: auto;}#sk-container-id-3 input.sk-toggleable__control:checked~label.sk-toggleable__label-arrow:before {content: \"▾\";}#sk-container-id-3 div.sk-estimator input.sk-toggleable__control:checked~label.sk-toggleable__label {background-color: #d4ebff;}#sk-container-id-3 div.sk-label input.sk-toggleable__control:checked~label.sk-toggleable__label {background-color: #d4ebff;}#sk-container-id-3 input.sk-hidden--visually {border: 0;clip: rect(1px 1px 1px 1px);clip: rect(1px, 1px, 1px, 1px);height: 1px;margin: -1px;overflow: hidden;padding: 0;position: absolute;width: 1px;}#sk-container-id-3 div.sk-estimator {font-family: monospace;background-color: #f0f8ff;border: 1px dotted black;border-radius: 0.25em;box-sizing: border-box;margin-bottom: 0.5em;}#sk-container-id-3 div.sk-estimator:hover {background-color: #d4ebff;}#sk-container-id-3 div.sk-parallel-item::after {content: \"\";width: 100%;border-bottom: 1px solid gray;flex-grow: 1;}#sk-container-id-3 div.sk-label:hover label.sk-toggleable__label {background-color: #d4ebff;}#sk-container-id-3 div.sk-serial::before {content: \"\";position: absolute;border-left: 1px solid gray;box-sizing: border-box;top: 0;bottom: 0;left: 50%;z-index: 0;}#sk-container-id-3 div.sk-serial {display: flex;flex-direction: column;align-items: center;background-color: white;padding-right: 0.2em;padding-left: 0.2em;position: relative;}#sk-container-id-3 div.sk-item {position: relative;z-index: 1;}#sk-container-id-3 div.sk-parallel {display: flex;align-items: stretch;justify-content: center;background-color: white;position: relative;}#sk-container-id-3 div.sk-item::before, #sk-container-id-3 div.sk-parallel-item::before {content: \"\";position: absolute;border-left: 1px solid gray;box-sizing: border-box;top: 0;bottom: 0;left: 50%;z-index: -1;}#sk-container-id-3 div.sk-parallel-item {display: flex;flex-direction: column;z-index: 1;position: relative;background-color: white;}#sk-container-id-3 div.sk-parallel-item:first-child::after {align-self: flex-end;width: 50%;}#sk-container-id-3 div.sk-parallel-item:last-child::after {align-self: flex-start;width: 50%;}#sk-container-id-3 div.sk-parallel-item:only-child::after {width: 0;}#sk-container-id-3 div.sk-dashed-wrapped {border: 1px dashed gray;margin: 0 0.4em 0.5em 0.4em;box-sizing: border-box;padding-bottom: 0.4em;background-color: white;}#sk-container-id-3 div.sk-label label {font-family: monospace;font-weight: bold;display: inline-block;line-height: 1.2em;}#sk-container-id-3 div.sk-label-container {text-align: center;}#sk-container-id-3 div.sk-container {/* jupyter's `normalize.less` sets `[hidden] { display: none; }` but bootstrap.min.css set `[hidden] { display: none !important; }` so we also need the `!important` here to be able to override the default hidden behavior on the sphinx rendered scikit-learn.org. See: https://github.com/scikit-learn/scikit-learn/issues/21755 */display: inline-block !important;position: relative;}#sk-container-id-3 div.sk-text-repr-fallback {display: none;}</style><div id=\"sk-container-id-3\" class=\"sk-top-container\"><div class=\"sk-text-repr-fallback\"><pre>DecisionTreeClassifier(class_weight=&#x27;balanced&#x27;, max_depth=10, random_state=45)</pre><b>In a Jupyter environment, please rerun this cell to show the HTML representation or trust the notebook. <br />On GitHub, the HTML representation is unable to render, please try loading this page with nbviewer.org.</b></div><div class=\"sk-container\" hidden><div class=\"sk-item\"><div class=\"sk-estimator sk-toggleable\"><input class=\"sk-toggleable__control sk-hidden--visually\" id=\"sk-estimator-id-3\" type=\"checkbox\" checked><label for=\"sk-estimator-id-3\" class=\"sk-toggleable__label sk-toggleable__label-arrow\">DecisionTreeClassifier</label><div class=\"sk-toggleable__content\"><pre>DecisionTreeClassifier(class_weight=&#x27;balanced&#x27;, max_depth=10, random_state=45)</pre></div></div></div></div></div>"
      ],
      "text/plain": [
       "DecisionTreeClassifier(class_weight='balanced', max_depth=10, random_state=45)"
      ]
     },
     "execution_count": 55,
     "metadata": {},
     "output_type": "execute_result"
    }
   ],
   "source": [
    "#Código de ajuste del modelo de clasificación 1\n",
    "from sklearn.tree import DecisionTreeClassifier\n",
    "dt=DecisionTreeClassifier(class_weight='balanced',criterion='gini',max_depth=10,random_state=45)\n",
    "#fit the model \n",
    "dt.fit(x_etrain,Y_train)"
   ]
  },
  {
   "cell_type": "code",
   "execution_count": 56,
   "id": "ff7972fe",
   "metadata": {},
   "outputs": [
    {
     "name": "stdout",
     "output_type": "stream",
     "text": [
      "['good' 'unacc' 'unacc' 'vgood' 'acc']\n",
      "1543     good\n",
      "423     unacc\n",
      "718     unacc\n",
      "1303    vgood\n",
      "1161      acc\n",
      "Name: class, dtype: object\n"
     ]
    }
   ],
   "source": [
    "from sklearn.ensemble import RandomForestClassifier\n",
    "rf = RandomForestClassifier()\n",
    "\n",
    "rf.fit(x_etrain, Y_train)\n",
    "\n",
    "yrf_pred = rf.predict(x_etest)\n",
    "\n",
    "\n",
    "\n",
    "print(yrf_pred[:5])\n",
    "\n",
    "print(y_test[:5])"
   ]
  },
  {
   "cell_type": "code",
   "execution_count": 57,
   "id": "33f5be2a",
   "metadata": {},
   "outputs": [
    {
     "name": "stdout",
     "output_type": "stream",
     "text": [
      "0    unacc\n",
      "1    unacc\n",
      "2    unacc\n",
      "3    unacc\n",
      "4    unacc\n",
      "Name: class, dtype: object\n",
      "['good' 'unacc' 'unacc' 'vgood' 'acc']\n"
     ]
    }
   ],
   "source": [
    "#Código de ajuste del modelo de clasificación 2\n",
    "#import warnings filter \n",
    "from warnings import simplefilter\n",
    "#ignore all futura warnings\n",
    "simplefilter(action='ignore', category=FutureWarning)\n",
    "#predict the target variable\n",
    "ydt_pred=dt.predict(x_etest)\n",
    "#muestra las 5 primeras predicciones\n",
    "print(y[:5])\n",
    "#muestra los primeros 5 valores reales\n",
    "print(ydt_pred[:5])\n"
   ]
  },
  {
   "attachments": {},
   "cell_type": "markdown",
   "id": "aa4b8461",
   "metadata": {},
   "source": [
    "## Evaluación de cada modelo\n",
    "\n",
    "Al menos incluya:\n",
    "\n",
    "+ Instancias clasificadas correctamente\n",
    "+ Instancias clasificadas incorrectamente\n",
    "+ TP Rate\n",
    "+ FP Rate\n",
    "+ Matriz de confusión\n"
   ]
  },
  {
   "cell_type": "code",
   "execution_count": 58,
   "id": "a2e675b3",
   "metadata": {},
   "outputs": [
    {
     "name": "stdout",
     "output_type": "stream",
     "text": [
      "0.9694501018329938\n"
     ]
    },
    {
     "data": {
      "image/png": "[encoded data removed]",
      "text/plain": [
       "<Figure size 640x480 with 2 Axes>"
      ]
     },
     "metadata": {},
     "output_type": "display_data"
    },
    {
     "name": "stdout",
     "output_type": "stream",
     "text": [
      "              precision    recall  f1-score   support\n",
      "\n",
      "         acc       0.95      0.94      0.94       109\n",
      "        good       0.82      0.86      0.84        21\n",
      "       unacc       0.99      0.99      0.99       341\n",
      "       vgood       0.95      0.95      0.95        20\n",
      "\n",
      "    accuracy                           0.97       491\n",
      "   macro avg       0.93      0.93      0.93       491\n",
      "weighted avg       0.97      0.97      0.97       491\n",
      "\n"
     ]
    }
   ],
   "source": [
    "#Código para mostrar la evaluación del modelo de clasificación 1\n",
    "\n",
    "from sklearn.metrics import accuracy_score\n",
    "from sklearn.metrics import confusion_matrix\n",
    "print(accuracy_score(y_test, ydt_pred))\n",
    "#muestra el grafico de la matriz\n",
    "from sklearn.metrics import ConfusionMatrixDisplay\n",
    "import matplotlib.pyplot as plt\n",
    "cm = confusion_matrix(y_test,ydt_pred,labels=dt.classes_)\n",
    "disp = ConfusionMatrixDisplay(confusion_matrix=cm,display_labels=dt.classes_)\n",
    "disp.plot()\n",
    "plt.show()\n",
    "from sklearn.metrics import classification_report \n",
    "print(classification_report(y_test,ydt_pred))\n"
   ]
  },
  {
   "attachments": {},
   "cell_type": "markdown",
   "id": "ad219a0c",
   "metadata": {},
   "source": [
    "Construya un párrafo con los principales hallazgos."
   ]
  },
  {
   "cell_type": "code",
   "execution_count": 59,
   "id": "efec0bb5",
   "metadata": {},
   "outputs": [],
   "source": [
    "#Código  para mostrarla evaluación del modelo de clasificación 2\n",
    "#crear una clasificacion con random forest\n"
   ]
  },
  {
   "attachments": {},
   "cell_type": "markdown",
   "id": "bf3a7cec",
   "metadata": {},
   "source": [
    "Construya un párrafo con los principales hallazgos."
   ]
  },
  {
   "attachments": {},
   "cell_type": "markdown",
   "id": "44df4eb5",
   "metadata": {},
   "source": [
    "## Comparación del desempeño de modelos"
   ]
  },
  {
   "cell_type": "code",
   "execution_count": 60,
   "id": "fe4acd93",
   "metadata": {},
   "outputs": [],
   "source": [
    "#Código para mostrar la comparación de métricas de desempeño de las dos propuestas en tabla\n"
   ]
  },
  {
   "cell_type": "code",
   "execution_count": 62,
   "id": "1b644946",
   "metadata": {},
   "outputs": [
    {
     "data": {
      "image/png": "[encoded data removed]",
      "text/plain": [
       "<Figure size 640x480 with 1 Axes>"
      ]
     },
     "metadata": {},
     "output_type": "display_data"
    }
   ],
   "source": [
    "#Código para mostrar la comparación de métricas de desempeño de las dos propuestas en tabla\n",
    "from sklearn.model_selection import cross_val_score\n",
    "from sklearn.model_selection import KFold\n",
    "from sklearn.model_selection import StratifiedKFold\n",
    "\n",
    "from matplotlib import pyplot\n",
    "\n",
    "#kfold = kFold(n_splits = 15, random_state = 1, shuffle = True)\n",
    "kfold = StratifiedKFold(n_splits = 15, random_state = 1, shuffle =True)\n",
    "\n",
    "scoresdt = cross_val_score(dt, x_etest, y_test, cv=kfold, scoring='f1_macro')\n",
    "pyplot.plot(range(1,16), scoresdt, label = 'Decision Tree')\n",
    "pyplot.xlabel('Number of divisions')\n",
    "pyplot.ylabel('f1 Macro')\n",
    "\n",
    "scoresrf = cross_val_score(rf, x_etest, y_test, cv=kfold, scoring='f1_macro')\n",
    "pyplot.plot(range(1, 16), scoresrf, label = 'Random Forest')\n",
    "pyplot.xlabel('Number of division')\n",
    "pyplot.ylabel('f1 Macro')\n",
    "\n",
    "pyplot.legend(loc= 'best')\n",
    "pyplot.show()"
   ]
  },
  {
   "attachments": {},
   "cell_type": "markdown",
   "id": "f11d5ab4",
   "metadata": {},
   "source": [
    "Construya un párrafo con los principales hallazgos."
   ]
  },
  {
   "attachments": {},
   "cell_type": "markdown",
   "id": "f810fb47",
   "metadata": {
    "ExecuteTime": {
     "end_time": "2022-03-14T16:16:57.134093Z",
     "start_time": "2022-03-14T16:16:57.117129Z"
    }
   },
   "source": [
    "## Discusión de los resultados obtenidos y argumentos sobre cómo se podrían mejorar de dichos resultados"
   ]
  },
  {
   "attachments": {},
   "cell_type": "markdown",
   "id": "c74b3044",
   "metadata": {},
   "source": [
    "Realice en este espacio todo el análsis de resultados final incluyendo: ventajas y desventajas de cada modelo propuesto, Resultados comparados. Conclusiones objetivas y significantes con base a las diferentes métricas escogidas. Recomendaciones de mejora de las propuestas: "
   ]
  }
 ],
 "metadata": {
  "kernelspec": {
   "display_name": "Python 3 (ipykernel)",
   "language": "python",
   "name": "python3"
  },
  "language_info": {
   "codemirror_mode": {
    "name": "ipython",
    "version": 3
   },
   "file_extension": ".py",
   "mimetype": "text/x-python",
   "name": "python",
   "nbconvert_exporter": "python",
   "pygments_lexer": "ipython3",
   "version": "3.10.5"
  },
  "toc": {
   "base_numbering": 1,
   "nav_menu": {},
   "number_sections": true,
   "sideBar": true,
   "skip_h1_title": true,
   "title_cell": "Tabla de Contenido",
   "title_sidebar": "Contenido",
   "toc_cell": false,
   "toc_position": {
    "height": "calc(100% - 180px)",
    "left": "10px",
    "top": "150px",
    "width": "337.597px"
   },
   "toc_section_display": true,
   "toc_window_display": true
  }
 },
 "nbformat": 4,
 "nbformat_minor": 5
}
